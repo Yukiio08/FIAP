{
  "nbformat": 4,
  "nbformat_minor": 0,
  "metadata": {
    "colab": {
      "provenance": [],
      "include_colab_link": true
    },
    "kernelspec": {
      "name": "python3",
      "display_name": "Python 3"
    },
    "language_info": {
      "name": "python"
    }
  },
  "cells": [
    {
      "cell_type": "markdown",
      "metadata": {
        "id": "view-in-github",
        "colab_type": "text"
      },
      "source": [
        "<a href=\"https://colab.research.google.com/github/Yukiio08/FIAP/blob/main/Checkpoint4.ipynb\" target=\"_parent\"><img src=\"https://colab.research.google.com/assets/colab-badge.svg\" alt=\"Open In Colab\"/></a>"
      ]
    },
    {
      "cell_type": "markdown",
      "source": [
        "# CASE: O vendedor de Pirozhki\n",
        "\n",
        "\n",
        "Vladimir Sidorov desistiu de seu trabalho convencional na KGB e decidiu empreender em 2010 no ramo alimentício. Com suas economias abriu um foodtruck no bairro do Ipiranga – SP especializado na venda de Pirozhki, onde seu grande diferencial era trabalhar com ingredientes importados dando uma qualidade extraordinária ao produto. Após o crescimento das vendas, a modalidade delivery foi implementada para auxiliar a empresa. Vladimir era extremamente popular no bairro, todos o conheciam, mas em 2019 se mudou para um ponto melhor e não tivemos mais notícia. Os últimos dados compartilhados das vendas de Vlad foram disponibilizados antes de sua partida.\n"
      ],
      "metadata": {
        "id": "HXZSC_Ob3Zrd"
      }
    },
    {
      "cell_type": "code",
      "source": [
        "\n",
        "Ano\tvendas\n",
        "2010\t723\n",
        "2011\t814\n",
        "2012\t905\n",
        "2014\t1087\n",
        "2017\t1360\n",
        "2018\t1451\n",
        "2019\t1542\n"
      ],
      "metadata": {
        "id": "H6qSt8nv3de1"
      },
      "execution_count": null,
      "outputs": []
    },
    {
      "cell_type": "markdown",
      "source": [
        "\n",
        "\n",
        "1.   Dado o problema acima, qual o melhor algoritmo para descobrir os dados de 2015?\n",
        "2.   Qual coeficiente angular?\n",
        "3.   Considerando uma perspectiva estatística, qual o total de venda em 2020 (Apresentar valores)?\n",
        "4. Considerando uma perspectiva estatística, qual o total de venda em 2021 (Apresentar valores)?\n",
        "5. Desenvolva um código em python que calcule estatisticamente as vendas em qualquer ano desejado\n",
        "6. Considerando sua opinião, qual o total de venda em 2021?\n",
        "7. Considerando sua opinião, qual o total de venda em 2023?\n",
        "\n"
      ],
      "metadata": {
        "id": "jmbpy-k73f90"
      }
    },
    {
      "cell_type": "markdown",
      "source": [
        "*   Nome:  Leonardo Vaidotas de Araujo\n",
        "*   RM: 550700\n",
        "*   Nome:  Fabricio Yukio Yamashiro\n",
        "*   RM: 552188\n",
        "\n",
        "\n"
      ],
      "metadata": {
        "id": "Wi9_DVhq34pT"
      }
    },
    {
      "cell_type": "markdown",
      "source": [
        "1. Regressão Linear\n",
        "2.\n",
        "3. 1633\n",
        "4. 1724\n",
        "6. 1724\n",
        "7. 1906\n"
      ],
      "metadata": {
        "id": "bEzS--PuChf0"
      }
    },
    {
      "cell_type": "markdown",
      "source": [
        "5."
      ],
      "metadata": {
        "id": "8Q3qAww4DkZV"
      }
    },
    {
      "cell_type": "code",
      "source": [
        "import numpy as np\n",
        "\n",
        "ano = [2010, 2011, 2012, 2014, 2017, 2018, 2019]\n",
        "vendas = [723, 814, 905, 1087, 1360, 1451, 1542]\n",
        "\n",
        "coef_angular,_  = np.polyfit(ano, vendas, 1)\n",
        "\n",
        "def calcular_vendas_em_ano(ano_desejado):\n",
        "    return coef_angular * ano_desejado + vendas[0] - coef_angular * ano[0]\n",
        "\n",
        "ano_2015 = 2015\n",
        "vendas_2015 = calcular_vendas_em_ano(ano_2015)\n",
        "\n",
        "ano_2020 = 2020\n",
        "vendas_2020 = calcular_vendas_em_ano(ano_2020)\n",
        "\n",
        "ano_2023 = 2023\n",
        "vendas_2023 = calcular_vendas_em_ano(ano_2023)\n",
        "\n",
        "ano_2021 = 2021\n",
        "vendas_2021 = calcular_vendas_em_ano(ano_2021)\n",
        "\n",
        "print(f\"Estimativa de vendas em 2015: {vendas_2015}\")\n",
        "print(f\"Estimativa de vendas em 2020: {vendas_2020}\")\n",
        "print(f\"Estimativa de vendas em 2023: {vendas_2023}\")\n",
        "print(f\"Estimativa de vendas em 2021: {vendas_2021}\")"
      ],
      "metadata": {
        "id": "jhq9SGBFEfbH",
        "outputId": "2b0dd85c-13b5-41f1-b9bf-c7e727bd0154",
        "colab": {
          "base_uri": "https://localhost:8080/"
        }
      },
      "execution_count": null,
      "outputs": [
        {
          "output_type": "stream",
          "name": "stdout",
          "text": [
            "Estimativa de vendas em 2015: 1178.0\n",
            "Estimativa de vendas em 2020: 1633.0\n",
            "Estimativa de vendas em 2023: 1906.0\n",
            "Estimativa de vendas em 2021: 1724.0\n"
          ]
        }
      ]
    }
  ]
}